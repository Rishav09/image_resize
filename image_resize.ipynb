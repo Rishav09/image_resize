{
 "metadata": {
  "language_info": {
   "codemirror_mode": {
    "name": "ipython",
    "version": 3
   },
   "file_extension": ".py",
   "mimetype": "text/x-python",
   "name": "python",
   "nbconvert_exporter": "python",
   "pygments_lexer": "ipython3",
   "version": "3.7.6-final"
  },
  "orig_nbformat": 2,
  "kernelspec": {
   "name": "Python 3.7.6 64-bit ('opt': conda)",
   "display_name": "Python 3.7.6 64-bit ('opt': conda)",
   "metadata": {
    "interpreter": {
     "hash": "c172d229f9980eb2e9bbd8bad79123e0519bc8b7784791961971fb2eb2efb7c2"
    }
   }
  }
 },
 "nbformat": 4,
 "nbformat_minor": 2,
 "cells": [
  {
   "cell_type": "code",
   "execution_count": 1,
   "metadata": {},
   "outputs": [],
   "source": [
    "import os\n",
    "import glob\n",
    "from tqdm import tqdm\n",
    "from PIL import Image,ImageFile\n",
    "from joblib import Parallel,delayed\n",
    "\n"
   ]
  },
  {
   "cell_type": "code",
   "execution_count": null,
   "metadata": {},
   "outputs": [],
   "source": [
    "ImageFile.Load_Truncated_Images = True\n",
    "\n",
    "\n",
    "def resize_image(image_path,output_folder,resize):\n",
    "    base_name = os.path.basename(image_path)\n",
    "    outpath = os.path.join(output_folder, base_name)\n",
    "    img = Image.open(image_path)\n",
    "    img = img.resize(\n",
    "        (resize[1],resize[0]),resample=Image.BILINEAR\n",
    "    )\n",
    "    img.save(outpath)\n",
    "\n",
    "path_dir = '/dkube/users/rishav09/dataset/Aeon/Mod_AEON_data'\n",
    "output_folder = '/workdir/dataset/Mod_AEON_data_512'\n",
    "images = glob.glob(os.path.join(path_dir,'*.JPG'))\n",
    "\n",
    "\n",
    "\n",
    "\n",
    "\n",
    "\n",
    "Parallel(n_jobs=128)(\n",
    "    delayed(resize_image)(\n",
    "        i,\n",
    "        output_folder,\n",
    "        (512,512)\n",
    "    )for i in tqdm(images)\n",
    "\n",
    ")\n"
   ]
  }
 ]
}